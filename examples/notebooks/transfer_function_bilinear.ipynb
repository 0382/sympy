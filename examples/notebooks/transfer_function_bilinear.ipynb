{
 "cells": [
  {
   "cell_type": "code",
   "execution_count": 1,
   "id": "6b3e2cee",
   "metadata": {},
   "outputs": [],
   "source": [
    "from sympy.physics.control.lti import TransferFunction\n",
    "from sympy.abc import s, L, R\n"
   ]
  },
  {
   "cell_type": "code",
   "execution_count": 2,
   "id": "cd1c66e2",
   "metadata": {},
   "outputs": [
    {
     "data": {
      "text/latex": [
       "$\\displaystyle \\frac{1}{L s + R}$"
      ],
      "text/plain": [
       "TransferFunction(1, L*s + R, s)"
      ]
     },
     "execution_count": 2,
     "metadata": {},
     "output_type": "execute_result"
    }
   ],
   "source": [
    "\n",
    "tf = TransferFunction(1, s*L + R, s)\n",
    "tf\n"
   ]
  },
  {
   "cell_type": "code",
   "execution_count": 3,
   "id": "47d95627",
   "metadata": {},
   "outputs": [],
   "source": [
    "\n",
    "numZ, denZ = tf.bilinear()\n"
   ]
  },
  {
   "cell_type": "code",
   "execution_count": 4,
   "id": "f0f68b35",
   "metadata": {},
   "outputs": [
    {
     "data": {
      "text/plain": [
       "[T, T]"
      ]
     },
     "execution_count": 4,
     "metadata": {},
     "output_type": "execute_result"
    }
   ],
   "source": [
    "\n",
    "numZ\n"
   ]
  },
  {
   "cell_type": "code",
   "execution_count": 5,
   "id": "28f12b7e",
   "metadata": {},
   "outputs": [
    {
     "data": {
      "text/plain": [
       "[2*L + R*T, -2*L + R*T]"
      ]
     },
     "execution_count": 5,
     "metadata": {},
     "output_type": "execute_result"
    }
   ],
   "source": [
    "\n",
    "denZ\n"
   ]
  },
  {
   "cell_type": "code",
   "execution_count": null,
   "id": "9b0d9cd4",
   "metadata": {},
   "outputs": [],
   "source": [
    "\n"
   ]
  },
  {
   "cell_type": "code",
   "execution_count": null,
   "id": "127f9e20",
   "metadata": {},
   "outputs": [],
   "source": []
  }
 ],
 "metadata": {
  "kernelspec": {
   "display_name": "Python 3 (ipykernel)",
   "language": "python",
   "name": "python3"
  },
  "language_info": {
   "codemirror_mode": {
    "name": "ipython",
    "version": 3
   },
   "file_extension": ".py",
   "mimetype": "text/x-python",
   "name": "python",
   "nbconvert_exporter": "python",
   "pygments_lexer": "ipython3",
   "version": "3.8.8"
  }
 },
 "nbformat": 4,
 "nbformat_minor": 5
}
