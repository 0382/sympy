{
 "cells": [
  {
   "cell_type": "code",
   "execution_count": 1,
   "id": "b1e9b834",
   "metadata": {},
   "outputs": [],
   "source": [
    "from sympy.physics.control.lti import TransferFunction\n",
    "from sympy.abc import s, L, R, T, z\n"
   ]
  },
  {
   "cell_type": "code",
   "execution_count": 2,
   "id": "c5cb5a67",
   "metadata": {},
   "outputs": [
    {
     "data": {
      "text/latex": [
       "$\\displaystyle \\frac{1}{L s + R}$"
      ],
      "text/plain": [
       "TransferFunction(1, L*s + R, s)"
      ]
     },
     "execution_count": 2,
     "metadata": {},
     "output_type": "execute_result"
    }
   ],
   "source": [
    "\n",
    "tf = TransferFunction(1, s*L + R, s)\n",
    "tf\n"
   ]
  },
  {
   "cell_type": "code",
   "execution_count": 3,
   "id": "80c4c490",
   "metadata": {},
   "outputs": [
    {
     "ename": "AttributeError",
     "evalue": "'TransferFunction' object has no attribute 'bilinear'",
     "output_type": "error",
     "traceback": [
      "\u001b[1;31m---------------------------------------------------------------------------\u001b[0m",
      "\u001b[1;31mAttributeError\u001b[0m                            Traceback (most recent call last)",
      "Cell \u001b[1;32mIn[3], line 1\u001b[0m\n\u001b[1;32m----> 1\u001b[0m numZ, denZ \u001b[38;5;241m=\u001b[39m \u001b[43mtf\u001b[49m\u001b[38;5;241;43m.\u001b[39;49m\u001b[43mbilinear\u001b[49m()\n",
      "\u001b[1;31mAttributeError\u001b[0m: 'TransferFunction' object has no attribute 'bilinear'"
     ]
    }
   ],
   "source": [
    "\n",
    "numZ, denZ = tf.bilinear()\n"
   ]
  },
  {
   "cell_type": "code",
   "execution_count": null,
   "id": "94efa5a9",
   "metadata": {},
   "outputs": [],
   "source": [
    "\n",
    "numZ\n"
   ]
  },
  {
   "cell_type": "code",
   "execution_count": null,
   "id": "21a352d0",
   "metadata": {},
   "outputs": [],
   "source": [
    "\n",
    "denZ\n"
   ]
  },
  {
   "cell_type": "code",
   "execution_count": null,
   "id": "628f76da",
   "metadata": {},
   "outputs": [],
   "source": [
    "\n"
   ]
  },
  {
   "cell_type": "code",
   "execution_count": null,
   "id": "68fc03f8",
   "metadata": {},
   "outputs": [],
   "source": []
  }
 ],
 "metadata": {
  "kernelspec": {
   "display_name": "Python 3 (ipykernel)",
   "language": "python",
   "name": "python3"
  },
  "language_info": {
   "codemirror_mode": {
    "name": "ipython",
    "version": 3
   },
   "file_extension": ".py",
   "mimetype": "text/x-python",
   "name": "python",
   "nbconvert_exporter": "python",
   "pygments_lexer": "ipython3",
   "version": "3.8.8"
  }
 },
 "nbformat": 4,
 "nbformat_minor": 5
}
