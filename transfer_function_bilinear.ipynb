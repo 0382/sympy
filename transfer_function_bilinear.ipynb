{
 "cells": [
  {
   "cell_type": "code",
   "execution_count": 15,
   "id": "fdba7479",
   "metadata": {},
   "outputs": [],
   "source": [
    "from sympy.physics.control.lti import TransferFunction\n",
    "from sympy.abc import s, L, R, T, z\n"
   ]
  },
  {
   "cell_type": "code",
   "execution_count": 16,
   "id": "96b8a3f7",
   "metadata": {},
   "outputs": [
    {
     "data": {
      "text/latex": [
       "$\\displaystyle \\frac{1}{L s + R}$"
      ],
      "text/plain": [
       "TransferFunction(1, L*s + R, s)"
      ]
     },
     "execution_count": 16,
     "metadata": {},
     "output_type": "execute_result"
    }
   ],
   "source": [
    "\n",
    "tf = TransferFunction(1, s*L + R, s)\n",
    "tf\n"
   ]
  },
  {
   "cell_type": "code",
   "execution_count": 17,
   "id": "7558fd12",
   "metadata": {},
   "outputs": [],
   "source": [
    "\n",
    "numZ, denZ = tf.bilinear()\n"
   ]
  },
  {
   "cell_type": "code",
   "execution_count": 18,
   "id": "220dba1f",
   "metadata": {},
   "outputs": [
    {
     "data": {
      "text/plain": [
       "[T, T]"
      ]
     },
     "execution_count": 18,
     "metadata": {},
     "output_type": "execute_result"
    }
   ],
   "source": [
    "\n",
    "numZ\n"
   ]
  },
  {
   "cell_type": "code",
   "execution_count": 19,
   "id": "c86cb75b",
   "metadata": {},
   "outputs": [
    {
     "data": {
      "text/plain": [
       "[2*L + R*T, -2*L + R*T]"
      ]
     },
     "execution_count": 19,
     "metadata": {},
     "output_type": "execute_result"
    }
   ],
   "source": [
    "\n",
    "denZ\n"
   ]
  },
  {
   "cell_type": "code",
   "execution_count": null,
   "id": "f116d3d9",
   "metadata": {},
   "outputs": [],
   "source": [
    "\n"
   ]
  },
  {
   "cell_type": "code",
   "execution_count": null,
   "id": "3084e9af",
   "metadata": {},
   "outputs": [],
   "source": []
  }
 ],
 "metadata": {
  "kernelspec": {
   "display_name": "Python 3 (ipykernel)",
   "language": "python",
   "name": "python3"
  },
  "language_info": {
   "codemirror_mode": {
    "name": "ipython",
    "version": 3
   },
   "file_extension": ".py",
   "mimetype": "text/x-python",
   "name": "python",
   "nbconvert_exporter": "python",
   "pygments_lexer": "ipython3",
   "version": "3.8.8"
  }
 },
 "nbformat": 4,
 "nbformat_minor": 5
}
